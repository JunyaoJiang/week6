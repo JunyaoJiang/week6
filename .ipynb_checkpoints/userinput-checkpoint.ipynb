{
 "cells": [
  {
   "cell_type": "markdown",
   "metadata": {},
   "source": [
    "### 9/23 AlexWang18 First Code for Something"
   ]
  },
  {
   "cell_type": "code",
   "execution_count": 1,
   "metadata": {},
   "outputs": [
    {
     "name": "stdin",
     "output_type": "stream",
     "text": [
      "What is your name? \n",
      " Alex\n",
      "Enter a time in the format HH:MM: \n",
      " 12:12\n"
     ]
    },
    {
     "name": "stdout",
     "output_type": "stream",
     "text": [
      "12 12\n"
     ]
    },
    {
     "name": "stdin",
     "output_type": "stream",
     "text": [
      "What is the current time zone? Choose from EST, CST, PST, or UTC. \n",
      " est\n"
     ]
    },
    {
     "name": "stdout",
     "output_type": "stream",
     "text": [
      "Hi Alex!\n",
      "The current time is 12:12 in the EST time zone.\n"
     ]
    },
    {
     "name": "stdin",
     "output_type": "stream",
     "text": [
      "What time zone do you want to convert to? cst\n"
     ]
    },
    {
     "ename": "NameError",
     "evalue": "name 'convert' is not defined",
     "output_type": "error",
     "traceback": [
      "\u001b[0;31m---------------------------------------------------------------------------\u001b[0m",
      "\u001b[0;31mNameError\u001b[0m                                 Traceback (most recent call last)",
      "\u001b[0;32m<ipython-input-1-42d88596660e>\u001b[0m in \u001b[0;36m<module>\u001b[0;34m\u001b[0m\n\u001b[1;32m     38\u001b[0m \u001b[0;34m\u001b[0m\u001b[0m\n\u001b[1;32m     39\u001b[0m \u001b[0;32mif\u001b[0m \u001b[0mchoiceTimeZone\u001b[0m \u001b[0;32min\u001b[0m \u001b[0macceptedZones\u001b[0m \u001b[0;32mand\u001b[0m \u001b[0mchoiceTimeZone\u001b[0m \u001b[0;34m!=\u001b[0m \u001b[0mcurrentTimeZone\u001b[0m\u001b[0;34m:\u001b[0m\u001b[0;34m\u001b[0m\u001b[0;34m\u001b[0m\u001b[0m\n\u001b[0;32m---> 40\u001b[0;31m     \u001b[0mconvert\u001b[0m\u001b[0;34m(\u001b[0m\u001b[0mintZone\u001b[0m\u001b[0;34m,\u001b[0m\u001b[0mcurrentTimeZone\u001b[0m\u001b[0;34m,\u001b[0m\u001b[0mchoiceTimeZone\u001b[0m\u001b[0;34m)\u001b[0m\u001b[0;34m\u001b[0m\u001b[0;34m\u001b[0m\u001b[0m\n\u001b[0m\u001b[1;32m     41\u001b[0m     \u001b[0;31m### might need to make functions for each case (like switch) put if choice is \"XT\" send it to EX func case\u001b[0m\u001b[0;34m\u001b[0m\u001b[0;34m\u001b[0m\u001b[0;34m\u001b[0m\u001b[0m\n\u001b[1;32m     42\u001b[0m \u001b[0;34m\u001b[0m\u001b[0m\n",
      "\u001b[0;31mNameError\u001b[0m: name 'convert' is not defined"
     ]
    }
   ],
   "source": [
    "from datetime import time\n",
    "\n",
    "def displayName(user): # function to greet user\n",
    "    print(\"Hi \" + user + \"!\")  \n",
    "\n",
    "def statement(x,y): #takes 2 arguments\n",
    "    displayName(name)\n",
    "    print(\"The current time is\", time,\"in the \" + currentTimeZone + \" time zone.\")\n",
    "\"\"\" \n",
    "    need to make seperate functions for each case ignore this\n",
    "    def convert(i,cu,ch):\n",
    "    switch() #\n",
    "        if choiceTimeZone = \"EST\":\n",
    "            h =+1\n",
    "        else if choiceTimeZone = \"CST\":\n",
    "            h =+2\n",
    "        else if choiceTimeZone = \"PST\"\n",
    "\"\"\"     \n",
    "\n",
    "name = str(input(\"What is your name? \\n\"))\n",
    "\n",
    "\n",
    "time = input(\"Enter a time in the format HH:MM: \\n\")\n",
    "h, m = map(int, time.split(':')) #formats the user input\n",
    "print(h, m)\n",
    "intZone = {h,m}\n",
    "acceptedZones = [\"EST\", \"CST\", \"PST\", \"UTC\"]\n",
    "\n",
    "\n",
    "currentTimeZone = input(\"What is the current time zone? Choose from EST, CST, PST, or UTC. \\n\").upper()\n",
    "\n",
    "if currentTimeZone in acceptedZones:\n",
    "    statement(time,currentTimeZone) #call statement function, passing the time as a string and the current TZ\n",
    "else:\n",
    "    print(\"Enter a valid time zone please!\")\n",
    "\n",
    "choiceTimeZone = input(\"What time zone do you want to convert to?\").upper() # upper to make sure caps does not matter\n",
    "\n",
    "if choiceTimeZone in acceptedZones and choiceTimeZone != currentTimeZone:\n",
    "   # convert(intZone,currentTimeZone,choiceTimeZone)\n",
    "    ### might need to make functions for each case (like switch) put if choice is \"XT\" send it to EX func case\n",
    "    \n",
    "\n",
    "\n",
    "\n"
   ]
  },
  {
   "cell_type": "code",
   "execution_count": null,
   "metadata": {},
   "outputs": [],
   "source": []
  },
  {
   "cell_type": "code",
   "execution_count": null,
   "metadata": {},
   "outputs": [],
   "source": []
  },
  {
   "cell_type": "code",
   "execution_count": null,
   "metadata": {},
   "outputs": [],
   "source": []
  }
 ],
 "metadata": {
  "kernelspec": {
   "display_name": "Python 3",
   "language": "python",
   "name": "python3"
  },
  "language_info": {
   "codemirror_mode": {
    "name": "ipython",
    "version": 3
   },
   "file_extension": ".py",
   "mimetype": "text/x-python",
   "name": "python",
   "nbconvert_exporter": "python",
   "pygments_lexer": "ipython3",
   "version": "3.8.3"
  }
 },
 "nbformat": 4,
 "nbformat_minor": 4
}
