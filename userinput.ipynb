{
 "cells": [
  {
   "cell_type": "markdown",
   "metadata": {},
   "source": [
    "### 9/23 AlexWang18 First Code for Something"
   ]
  },
  {
   "cell_type": "code",
   "execution_count": 1,
   "metadata": {},
   "outputs": [
    {
     "ename": "IndentationError",
     "evalue": "expected an indented block (<ipython-input-1-deb555beecc4>, line 11)",
     "output_type": "error",
     "traceback": [
      "\u001b[0;36m  File \u001b[0;32m\"<ipython-input-1-deb555beecc4>\"\u001b[0;36m, line \u001b[0;32m11\u001b[0m\n\u001b[0;31m    switch()\u001b[0m\n\u001b[0m    ^\u001b[0m\n\u001b[0;31mIndentationError\u001b[0m\u001b[0;31m:\u001b[0m expected an indented block\n"
     ]
    }
   ],
   "source": [
    "from datetime import time\n",
    "\n",
    "def displayName(user):\n",
    "    print(\"Hi \" + user + \"!\")  \n",
    "\n",
    "def statement(x,y):\n",
    "    displayName(name)\n",
    "    print(\"The current time is\", time,\"in the \" + currentTimeZone + \" time zone.\")\n",
    "\n",
    "    def convert(i,cu,ch):\n",
    "    switch()\n",
    "        if choiceTimeZone = \"EST\":\n",
    "            h =+1\n",
    "        else if choiceTimeZone = \"CST\":\n",
    "            h =+2\n",
    "        else if choiceTimeZone = \"PST\"\n",
    "    \n",
    "\n",
    "name = str(input(\"What is your name? \\n\"))\n",
    "\n",
    "\n",
    "time = input(\"Enter a time in the format HH:MM: \\n\")\n",
    "h, m = map(int, time.split(':'))\n",
    "print(type(time))\n",
    "print(h, m)\n",
    "intZone = {h,m}\n",
    "acceptedZones = [\"EST\", \"CST\", \"PST\", \"UTC\"]\n",
    "\n",
    "\n",
    "currentTimeZone = input(\"What is the current time zone? Choose from EST, CST, PST, or UTC. \\n\").upper()\n",
    "\n",
    "if currentTimeZone in acceptedZones:\n",
    "    statement(time,currentTimeZone)\n",
    "else:\n",
    "    print(\"Enter a valid time zone please!\")\n",
    "\n",
    "choiceTimeZone = input(\"What time zone do you want to convert to?\").upper()\n",
    "\n",
    "if choiceTimeZone in acceptedZones and choiceTimeZone != currentTimeZone:\n",
    "    convert(intZone,currentTimeZone,choiceTimeZone)\n",
    "    ### might need to make functions for each case (like switch) put if choice is \"XT\" send it to EX func case\n",
    "    \n",
    "\n",
    "\n",
    "\n"
   ]
  },
  {
   "cell_type": "code",
   "execution_count": null,
   "metadata": {},
   "outputs": [],
   "source": []
  },
  {
   "cell_type": "code",
   "execution_count": null,
   "metadata": {},
   "outputs": [],
   "source": []
  },
  {
   "cell_type": "code",
   "execution_count": null,
   "metadata": {},
   "outputs": [],
   "source": []
  }
 ],
 "metadata": {
  "kernelspec": {
   "display_name": "Python 3",
   "language": "python",
   "name": "python3"
  },
  "language_info": {
   "codemirror_mode": {
    "name": "ipython",
    "version": 3
   },
   "file_extension": ".py",
   "mimetype": "text/x-python",
   "name": "python",
   "nbconvert_exporter": "python",
   "pygments_lexer": "ipython3",
   "version": "3.8.3"
  }
 },
 "nbformat": 4,
 "nbformat_minor": 4
}
