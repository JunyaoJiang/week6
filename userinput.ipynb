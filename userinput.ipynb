{
 "cells": [
  {
   "cell_type": "markdown",
   "metadata": {},
   "source": [
    "### 9/23 AlexWang18 First Code for Something"
   ]
  },
  {
   "cell_type": "code",
   "execution_count": null,
   "metadata": {},
   "outputs": [
    {
     "name": "stdin",
     "output_type": "stream",
     "text": [
      "What is your name? \n",
      " Alex\n",
      "Enter a time in the format HH:MM: \n",
      " 12:12\n",
      "What is the current time zone? Choose from EST, CST, PST, or UTC. \n",
      " est\n"
     ]
    },
    {
     "name": "stdout",
     "output_type": "stream",
     "text": [
      "Hi Alex!\n",
      "The current time is 12:12 in the EST time zone.\n"
     ]
    }
   ],
   "source": [
    "import sys\n",
    "from datetime import time\n",
    "\n",
    "def displayName(user): # function to greet user\n",
    "    print(\"Hi \" + user + \"!\")  \n",
    "\n",
    "def statement(x,y): #takes 2 arguments\n",
    "    displayName(name)\n",
    "    print(\"The current time is\", time,\"in the \" + currentTimeZone + \" time zone.\")\n",
    "\n",
    "\n",
    "name = str(input(\"What is your name? \\n\"))\n",
    "\n",
    "\n",
    "time = input(\"Enter a time in the format HH:MM: \\n\")\n",
    "try:\n",
    "    h, m = map(int, time.split(':')) #formats the user input\n",
    "    intZone = {h,m}\n",
    "except:\n",
    "    print(\"Make sure to enter it correctly\")\n",
    "    quit()\n",
    "\n",
    "acceptedZones = [\"EST\", \"CST\", \"PST\", \"UTC\"]\n",
    "\n",
    "\n",
    "currentTimeZone = input(\"What is the current time zone? Choose from EST, CST, PST, or UTC. \\n\").upper()\n",
    "\n",
    "if currentTimeZone in acceptedZones:\n",
    "    statement(time,currentTimeZone) #call statement function, passing the time as a string and the current TZ\n",
    "else:\n",
    "    print(\"Enter a valid time zone please!\")\n",
    "\n",
    "\"\"\"\"\n",
    "choiceTimeZone = input(\"What time zone do you want to convert to?\").upper() # upper to make sure caps does not matter\n",
    "\n",
    "if choiceTimeZone in acceptedZones and choiceTimeZone != currentTimeZone:\n",
    "    pass\n",
    "   # convert(intZone,currentTimeZone,choiceTimeZone)\n",
    "    ### might need to make functions for each case (like switch) put if choice is \"XT\" send it to EX func case\n",
    "\"\"\"\"    \n",
    "\n",
    "\n",
    "\n"
   ]
  },
  {
   "cell_type": "code",
   "execution_count": null,
   "metadata": {},
   "outputs": [],
   "source": []
  },
  {
   "cell_type": "code",
   "execution_count": null,
   "metadata": {},
   "outputs": [],
   "source": []
  },
  {
   "cell_type": "code",
   "execution_count": null,
   "metadata": {},
   "outputs": [],
   "source": []
  }
 ],
 "metadata": {
  "kernelspec": {
   "display_name": "Python 3",
   "language": "python",
   "name": "python3"
  },
  "language_info": {
   "codemirror_mode": {
    "name": "ipython",
    "version": 3
   },
   "file_extension": ".py",
   "mimetype": "text/x-python",
   "name": "python",
   "nbconvert_exporter": "python",
   "pygments_lexer": "ipython3",
   "version": "3.8.3"
  }
 },
 "nbformat": 4,
 "nbformat_minor": 4
}
